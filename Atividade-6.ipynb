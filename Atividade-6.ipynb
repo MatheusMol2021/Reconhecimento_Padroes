{
 "cells": [
  {
   "cell_type": "markdown",
   "metadata": {},
   "source": [
    "# Atividade 6\n",
    "Crie a sua heurística para escolher a melhor característica para um nó de uma árvore de decisão e compare com a implementação feita nos vídeos postados nesse tópico aqui no AVA e com a implementação do scikit learn.\n",
    "\n",
    "Faça comparações plotando as regiões de decisão com resubstituição para a base iris e as características usadas nos vídeos.\n",
    "\n",
    "Também faça comparações usando validação cruzada com pelo menos 3 bases de classificação com atributos contínuos.\n",
    "\n",
    "Escreva um parágrafo expondo sua interpretação dos resultados obtidos."
   ]
  },
  {
   "cell_type": "markdown",
   "metadata": {},
   "source": [
    "# Resposta Parágrafo\n",
    "\n",
    "Em resumo, o método Arvore do ScikitLearn é completo pois consegue dividir a Heuristica do nó considerando os eixos X e Y, O método proposto nos vídeos considera o melhor valor dividindo-o no Eixo X, entretanto nas bases que encontrei a melhor forma de divisão seria considerando o eixo Y, uma vez que os target estão consideravelmente distantes um dos outros. Deste modo, não podemos definir qual seria a melhor heuristica pois cada Dataset apresentará resultados diferentes para cada Algoritmo."
   ]
  },
  {
   "cell_type": "markdown",
   "metadata": {},
   "source": [
    "# Algoritmos"
   ]
  },
  {
   "cell_type": "markdown",
   "metadata": {},
   "source": [
    "## Bibliotecas e Funções"
   ]
  },
  {
   "cell_type": "code",
   "execution_count": 1,
   "metadata": {},
   "outputs": [],
   "source": [
    "# Bibliotecas\n",
    "from sklearn.model_selection import cross_validate\n",
    "from sklearn.metrics import mean_squared_error, make_scorer\n",
    "from sklearn.metrics import accuracy_score\n"
   ]
  },
  {
   "cell_type": "code",
   "execution_count": 2,
   "metadata": {},
   "outputs": [],
   "source": [
    "# Função para gráfico\n",
    "import matplotlib.pyplot as plt\n",
    "import pandas as pd\n",
    "\n",
    "def plotDecisao(modelo, X, y, title):\n",
    "    modelo.fit(X, y)\n",
    "    x0s = np.linspace(np.min(X[:,0])-0.2, np.max(X[:,0])+0.2, 100)\n",
    "    x1s = np.linspace(np.min(X[:,1])-0.2, np.max(X[:,1])+0.2, 100)\n",
    "    x0, x1 = np.meshgrid(x0s, x1s)\n",
    "    Xdec = np.c_[x0.ravel(), x1.ravel()]\n",
    "    ypred = modelo.predict(Xdec)\n",
    "    plt.contourf(x0, x1, ypred.reshape(x0.shape), alpha=0.25)\n",
    "    for k in set(y):\n",
    "        plt.plot(X[:,0][y==k], X[:,1][y==k], 'o', label=f\"{iris.target_names[k]} [{k}]\")\n",
    "    plt.xlabel(f\"X[0]: {iris.feature_names[0]}\")\n",
    "    plt.ylabel(f\"X[1]: {iris.feature_names[1]}\")\n",
    "    plt.title(f'{title}')\n",
    "    plt.show()\n",
    "\n"
   ]
  },
  {
   "cell_type": "markdown",
   "metadata": {},
   "source": [
    "## Base de Dados iris"
   ]
  },
  {
   "cell_type": "code",
   "execution_count": 3,
   "metadata": {},
   "outputs": [],
   "source": [
    "from sklearn.datasets import load_iris\n",
    "iris = load_iris()\n",
    "X, y = iris.data[:,2:], iris.target[:]"
   ]
  },
  {
   "cell_type": "markdown",
   "metadata": {},
   "source": [
    "## Heuristicas, SkLearn, Video e Matheus"
   ]
  },
  {
   "cell_type": "markdown",
   "metadata": {},
   "source": [
    "### Heuristica do ScikitLearnn"
   ]
  },
  {
   "cell_type": "code",
   "execution_count": 4,
   "metadata": {},
   "outputs": [
    {
     "data": {
      "text/plain": [
       "(0.9933333333333333,)"
      ]
     },
     "execution_count": 4,
     "metadata": {},
     "output_type": "execute_result"
    }
   ],
   "source": [
    "from sklearn import tree\n",
    "\n",
    "ArvoreSK = tree.DecisionTreeClassifier() # DecisionTreeRegressor()\n",
    "\n",
    "ArvoreSK.fit(X, y)\n",
    "ypred = ArvoreSK.predict(X)\n",
    "accSK = accuracy_score(y, ypred),# (ypred == y)\n",
    "accSK"
   ]
  },
  {
   "cell_type": "code",
   "execution_count": 5,
   "metadata": {},
   "outputs": [
    {
     "name": "stdout",
     "output_type": "stream",
     "text": [
      "[-0.18257419 -0.18257419 -0.31622777 -0.25819889 -0.        ]\n"
     ]
    }
   ],
   "source": [
    "# Validação Cruzada.\n",
    "scoresSK = cross_validate(ArvoreSK, X, y, scoring=make_scorer\n",
    "(mean_squared_error, greater_is_better=False, squared=False))\n",
    "print(scoresSK['test_score'])"
   ]
  },
  {
   "cell_type": "markdown",
   "metadata": {},
   "source": [
    "### Heuristica do vídeo Passado"
   ]
  },
  {
   "cell_type": "code",
   "execution_count": 6,
   "metadata": {},
   "outputs": [
    {
     "data": {
      "text/plain": [
       "0.9533333333333334"
      ]
     },
     "execution_count": 6,
     "metadata": {},
     "output_type": "execute_result"
    }
   ],
   "source": [
    "from sklearn.metrics import accuracy_score\n",
    "import numpy as np\n",
    "from collections import Counter\n",
    "from sklearn.base import BaseEstimator, ClassifierMixin\n",
    "\n",
    "def impureza(y): #Gini\n",
    "    labels = list(set(y))\n",
    "    labels.sort()\n",
    "    probabilidades = np.zeros((len(labels),))\n",
    "    for i,k in enumerate(labels):\n",
    "        probabilidades[i] = sum(y==k)/len(y)\n",
    "    result = 1 - sum(probabilidades**2) # Resultado = 0, quer dizer que é puro\n",
    "    return result\n",
    "\n",
    "def impurezaValor(x, y, valor):\n",
    "    iguais = x==valor\n",
    "    impurezaIguais = impureza(y[iguais])\n",
    "    propIguais = sum(iguais)/len(y)\n",
    "    impurezaDiferentes = impureza(y[~iguais])\n",
    "    propDiferentes = sum(~iguais)/len(y)\n",
    "    impurezaTotal = propIguais*impurezaIguais + propDiferentes*impurezaDiferentes\n",
    "    return impurezaTotal\n",
    "\n",
    "def impurezaMinima(X, y):\n",
    "    impurezas = []\n",
    "    caracteristicasValores = []\n",
    "    for i in range(X.shape[1]):\n",
    "        valores = sorted(list(set(X[:,i])))\n",
    "        for valor in valores:\n",
    "            caracteristicasValores.append([i,valor])\n",
    "            impurezasValorCaracteristica = impurezaValor(X[:,i], y, valor)\n",
    "            impurezas.append(impurezasValorCaracteristica)\n",
    "    caracteristicasValores = np.array(caracteristicasValores)\n",
    "    impurezas = np.array(impurezas)\n",
    "    menorimpureza = np.argmin(impurezas)\n",
    "    caracteristica, valor = caracteristicasValores[menorimpureza]\n",
    "    return impurezas[menorimpureza], int(caracteristica), valor\n",
    "\n",
    "def maisFrequente(y):\n",
    "    return Counter(y.flat).most_common(1)[0][0]\n",
    "\n",
    "class ArvoreVD(BaseEstimator, ClassifierMixin):\n",
    "    def __init__(self):\n",
    "        self.caracteristica = 0\n",
    "    def fit(self, X, y):\n",
    "        self.valor = np.mean(X[:,self.caracteristica])\n",
    "        maiores = X[:,self.caracteristica] > self.valor\n",
    "        if sum(maiores)>0 and sum(~maiores)>0:\n",
    "            self.maiores = ArvoreVD()\n",
    "            self.maiores.fit(X[maiores,:],y[maiores])\n",
    "            self.menores = ArvoreVD()\n",
    "            self.menores.fit(X[~maiores,:],y[~maiores])\n",
    "        else:\n",
    "            self.resposta = maisFrequente(y)\n",
    "    def predict(self, X):\n",
    "        y = np.empty((X.shape[0]))\n",
    "        if hasattr(self, 'resposta'):\n",
    "            y[:] = self.resposta\n",
    "        else:\n",
    "            maiores = X[:,self.caracteristica] > self.valor\n",
    "            y[maiores] = self.maiores.predict(X[maiores,:])\n",
    "            y[~maiores] = self.menores.predict(X[~maiores,:])\n",
    "        return y\n",
    "\n",
    "modelo = ArvoreVD()\n",
    "modelo.fit(X,y)\n",
    "ypred = modelo.predict(X)\n",
    "accVD = accuracy_score(y, ypred)#, (ypred == y)\n",
    "accVD "
   ]
  },
  {
   "cell_type": "code",
   "execution_count": 7,
   "metadata": {},
   "outputs": [
    {
     "name": "stdout",
     "output_type": "stream",
     "text": [
      "[-0.25819889 -0.25819889 -0.4472136  -0.25819889 -0.        ]\n"
     ]
    }
   ],
   "source": [
    "# Validação Cruzada.\n",
    "scoresVD = cross_validate(ArvoreVD(), X, y, scoring=make_scorer\n",
    "(mean_squared_error, greater_is_better=False, squared=False))\n",
    "print(scoresVD['test_score'])"
   ]
  },
  {
   "cell_type": "markdown",
   "metadata": {},
   "source": [
    "### Heuristica Matheus"
   ]
  },
  {
   "cell_type": "code",
   "execution_count": 8,
   "metadata": {},
   "outputs": [
    {
     "data": {
      "text/plain": [
       "0.96"
      ]
     },
     "execution_count": 8,
     "metadata": {},
     "output_type": "execute_result"
    }
   ],
   "source": [
    "from sklearn.metrics import accuracy_score\n",
    "import numpy as np\n",
    "from collections import Counter\n",
    "from sklearn.base import BaseEstimator, ClassifierMixin\n",
    "\n",
    "def impureza(y): #Gini\n",
    "    labels = list(set(y))\n",
    "    labels.sort()\n",
    "    probabilidades = np.zeros((len(labels),))\n",
    "    for i,k in enumerate(labels):\n",
    "        probabilidades[i] = sum(y==k)/len(y)\n",
    "    result = 1 - sum(probabilidades**2)\n",
    "    return result\n",
    "\n",
    "def impurezaValor(x, y, valor):\n",
    "    maiores = x>valor\n",
    "    impurezaMaiores = impureza(y[maiores])\n",
    "    propMaiores = sum(maiores)/len(y)\n",
    "    impurezaMenores = impureza(y[~maiores])\n",
    "    propMenores = sum(~maiores)/len(y)\n",
    "    impurezaTotal = propMaiores*impurezaMaiores + propMenores*impurezaMenores\n",
    "    return impurezaTotal, impurezaMaiores, impurezaMenores\n",
    "\n",
    "# A alteração está aqui.\n",
    "# Para base que escolhi a melhor classificação seria pelo y e não pelo x.\n",
    "\n",
    "def melhorValor(x, y): \n",
    "    result = None\n",
    "    menorImpureza = float('inf')\n",
    "    ymax = np.max(y)\n",
    "    ymin = np.min(y)\n",
    "    while True:\n",
    "        valor = (ymin+ymax)/2\n",
    "        impTotal, impMaiores, impMenores = impurezaValor(x, y, valor)\n",
    "        if impTotal < menorImpureza:\n",
    "            menorImpureza = impTotal\n",
    "            result = valor\n",
    "            if impMaiores == 0 or impMenores == 0:\n",
    "                break\n",
    "            if impMaiores < impMenores:\n",
    "                ymin = valor\n",
    "            else:\n",
    "                ymax = valor\n",
    "        else:\n",
    "            break\n",
    "    return result, menorImpureza\n",
    "\n",
    "def melhorCaracteristica(X, y):\n",
    "    impurezas = []\n",
    "    valores = []\n",
    "    for caracteristica in range(X.shape[1]):\n",
    "        valor, imp = melhorValor(X[:,caracteristica], y)\n",
    "        impurezas.append(imp)\n",
    "        valores.append(valor)\n",
    "    impurezas = np.array(impurezas)\n",
    "    caracteristica = np.argmin(impurezas)\n",
    "    return caracteristica, valores[caracteristica], impurezas[caracteristica]\n",
    "\n",
    "def impurezaMinima(X, y):\n",
    "    impurezas = []\n",
    "    caracteristicasValores = []\n",
    "    for i in range(X.shape[1]):\n",
    "        valores = sorted(list(set(X[:,i])))\n",
    "        for valor in valores:\n",
    "            caracteristicasValores.append([i,valor])\n",
    "            impurezasValorCaracteristica = impurezaValor(X[:,i], y, valor)\n",
    "            impurezas.append(impurezasValorCaracteristica)\n",
    "    caracteristicasValores = np.array(caracteristicasValores)\n",
    "    impurezas = np.array(impurezas)\n",
    "    menorimpureza = np.argmin(impurezas)\n",
    "    caracteristica, valor = caracteristicasValores[menorimpureza]\n",
    "    return impurezas[menorimpureza], int(caracteristica), valor\n",
    "\n",
    "def maisFrequente(y):\n",
    "    return Counter(y.flat).most_common(1)[0][0]\n",
    "\n",
    "class ArvoreMT(BaseEstimator, ClassifierMixin):\n",
    "    def fit(self, X, y):\n",
    "        self.caracteristica, self.valor, self.imp = melhorCaracteristica(X,y)\n",
    "        maiores = X[:,self.caracteristica] > self.valor\n",
    "        if sum(maiores)>0 and sum(~maiores)>0:\n",
    "            self.maiores = ArvoreMT()\n",
    "            self.maiores.fit(X[maiores,:],y[maiores])\n",
    "            self.menores = ArvoreMT()\n",
    "            self.menores.fit(X[~maiores,:],y[~maiores])\n",
    "        else:\n",
    "            self.resposta = maisFrequente(y)\n",
    "    def predict(self, X):\n",
    "        y = np.empty((X.shape[0]))\n",
    "        if hasattr(self, 'resposta'):\n",
    "            y[:] = self.resposta\n",
    "        else:\n",
    "            maiores = X[:,self.caracteristica] > self.valor\n",
    "            y[maiores] = self.maiores.predict(X[maiores,:])\n",
    "            y[~maiores] = self.menores.predict(X[~maiores,:])\n",
    "        return y\n",
    "\n",
    "modelo = ArvoreMT()\n",
    "modelo.fit(X,y)\n",
    "ypred = modelo.predict(X)\n",
    "accMT = accuracy_score(y, ypred)#, (ypred == y)\n",
    "accMT"
   ]
  },
  {
   "cell_type": "code",
   "execution_count": 9,
   "metadata": {},
   "outputs": [
    {
     "name": "stdout",
     "output_type": "stream",
     "text": [
      "[-0.18257419 -0.18257419 -0.25819889 -0.25819889 -0.18257419]\n"
     ]
    }
   ],
   "source": [
    "# Validação Cruzada.\n",
    "scoresMT = cross_validate(ArvoreMT(), X, y, scoring=make_scorer\n",
    "(mean_squared_error, greater_is_better=False, squared=False))\n",
    "print(scoresMT['test_score'])"
   ]
  },
  {
   "cell_type": "markdown",
   "metadata": {},
   "source": [
    "## Comparação de Resultados"
   ]
  },
  {
   "cell_type": "code",
   "execution_count": 10,
   "metadata": {},
   "outputs": [
    {
     "name": "stdout",
     "output_type": "stream",
     "text": [
      "Acurácia Heuristica ScikitLearn         : (0.9933333333333333,)\n",
      "Acurácia Cruzada Heuristica Vídeo       : 0.9533333333333334\n",
      "Acurácia Cruzada Heuristica Matheus     : 0.96\n"
     ]
    }
   ],
   "source": [
    "# Acurácia\n",
    "print(f\"Acurácia Heuristica ScikitLearn         : {accSK}\")\n",
    "print(f\"Acurácia Cruzada Heuristica Vídeo       : {accVD}\")\n",
    "print(f\"Acurácia Cruzada Heuristica Matheus     : {accMT}\")"
   ]
  },
  {
   "cell_type": "code",
   "execution_count": 11,
   "metadata": {},
   "outputs": [
    {
     "name": "stdout",
     "output_type": "stream",
     "text": [
      "Validação Cruzada Heuristica ScikitLearn : [-0.18257419 -0.18257419 -0.31622777 -0.25819889 -0.        ]\n",
      "Validação Cruzada Heuristica Vídeo       : [-0.25819889 -0.25819889 -0.4472136  -0.25819889 -0.        ]\n",
      "Validação Cruzada Heuristica Matheus     : [-0.18257419 -0.18257419 -0.25819889 -0.25819889 -0.18257419]\n"
     ]
    }
   ],
   "source": [
    "# Validação Cruzada\n",
    "print(f\"Validação Cruzada Heuristica ScikitLearn : {scoresSK['test_score']}\")\n",
    "print(f\"Validação Cruzada Heuristica Vídeo       : {scoresVD['test_score']}\")\n",
    "print(f\"Validação Cruzada Heuristica Matheus     : {scoresMT['test_score']}\")"
   ]
  },
  {
   "cell_type": "code",
   "execution_count": 12,
   "metadata": {},
   "outputs": [
    {
     "data": {
      "image/png": "[encoded data removed]",
      "text/plain": [
       "<Figure size 432x288 with 1 Axes>"
      ]
     },
     "metadata": {
      "needs_background": "light"
     },
     "output_type": "display_data"
    },
    {
     "data": {
      "image/png": "[encoded data removed]",
      "text/plain": [
       "<Figure size 432x288 with 1 Axes>"
      ]
     },
     "metadata": {
      "needs_background": "light"
     },
     "output_type": "display_data"
    },
    {
     "data": {
      "image/png": "[encoded data removed]",
      "text/plain": [
       "<Figure size 432x288 with 1 Axes>"
      ]
     },
     "metadata": {
      "needs_background": "light"
     },
     "output_type": "display_data"
    }
   ],
   "source": [
    "# Gráficos dos métodos heurísticos\n",
    "plotDecisao(tree.DecisionTreeClassifier(), X, y, \"Heuristica ScikitLearn\")\n",
    "plotDecisao(ArvoreVD(), X, y, \"Heuristica Vídeo\")\n",
    "plotDecisao(ArvoreMT(), X, y, \"Heuristica Matheus\")"
   ]
  },
  {
   "cell_type": "markdown",
   "metadata": {},
   "source": [
    "## Resultados com Outras bases de Dados"
   ]
  },
  {
   "cell_type": "code",
   "execution_count": 13,
   "metadata": {},
   "outputs": [],
   "source": [
    "# Heuristica Matheus\n",
    "from sklearn.metrics import accuracy_score\n",
    "import numpy as np\n",
    "from collections import Counter\n",
    "from sklearn.base import BaseEstimator, ClassifierMixin\n",
    "\n",
    "def impureza(y): #Gini\n",
    "    labels = list(set(y))\n",
    "    labels.sort()\n",
    "    probabilidades = np.zeros((len(labels),))\n",
    "    for i,k in enumerate(labels):\n",
    "        probabilidades[i] = sum(y==k)/len(y)\n",
    "    result = 1 - sum(probabilidades**2)\n",
    "    return result\n",
    "\n",
    "def impurezaValor(x, y, valor):\n",
    "    maiores = x>valor\n",
    "    impurezaMaiores = impureza(y[maiores])\n",
    "    propMaiores = sum(maiores)/len(y)\n",
    "    impurezaMenores = impureza(y[~maiores])\n",
    "    propMenores = sum(~maiores)/len(y)\n",
    "    impurezaTotal = propMaiores*impurezaMaiores + propMenores*impurezaMenores\n",
    "    return impurezaTotal, impurezaMaiores, impurezaMenores\n",
    "\n",
    "# A alteração está aqui.\n",
    "# Para base que escolhi a melhor classificação seria pelo y e não pelo x.\n",
    "\n",
    "def melhorValor(x, y): \n",
    "    result = None\n",
    "    menorImpureza = float('inf')\n",
    "    ymax = np.max(y)\n",
    "    ymin = np.min(y)\n",
    "    while True:\n",
    "        valor = (ymin+ymax)/2\n",
    "        impTotal, impMaiores, impMenores = impurezaValor(x, y, valor)\n",
    "        if impTotal < menorImpureza:\n",
    "            menorImpureza = impTotal\n",
    "            result = valor\n",
    "            if impMaiores == 0 or impMenores == 0:\n",
    "                break\n",
    "            if impMaiores < impMenores:\n",
    "                ymin = valor\n",
    "            else:\n",
    "                ymax = valor\n",
    "        else:\n",
    "            break\n",
    "    return result, menorImpureza\n",
    "\n",
    "def melhorCaracteristica(X, y):\n",
    "    impurezas = []\n",
    "    valores = []\n",
    "    for caracteristica in range(X.shape[1]):\n",
    "        #valor, imp = melhorValor(X[:,caracteristica], y)\n",
    "        valor, imp = melhorValor(X, y)\n",
    "        impurezas.append(imp)\n",
    "        valores.append(valor)\n",
    "    impurezas = np.array(impurezas)\n",
    "    caracteristica = np.argmin(impurezas)\n",
    "    return caracteristica, valores[caracteristica], impurezas[caracteristica]\n",
    "\n",
    "def impurezaMinima(X, y):\n",
    "    impurezas = []\n",
    "    caracteristicasValores = []\n",
    "    for i in range(X.shape[1]):\n",
    "        valores = sorted(list(set(X[:,i])))\n",
    "        for valor in valores:\n",
    "            caracteristicasValores.append([i,valor])\n",
    "            impurezasValorCaracteristica = impurezaValor(X[:,i], y, valor)\n",
    "            impurezas.append(impurezasValorCaracteristica)\n",
    "    caracteristicasValores = np.array(caracteristicasValores)\n",
    "    impurezas = np.array(impurezas)\n",
    "    menorimpureza = np.argmin(impurezas)\n",
    "    caracteristica, valor = caracteristicasValores[menorimpureza]\n",
    "    return impurezas[menorimpureza], int(caracteristica), valor\n",
    "\n",
    "def maisFrequente(y):\n",
    "    return Counter(y.flat).most_common(1)[0][0]\n",
    "\n",
    "class ArvoreMT(BaseEstimator, ClassifierMixin):\n",
    "    def fit(self, X, y):\n",
    "        self.caracteristica, self.valor, self.imp = melhorCaracteristica(X,y)\n",
    "        maiores = X[:,self.caracteristica] > self.valor\n",
    "        if sum(maiores)>0 and sum(~maiores)>0:\n",
    "            self.maiores = ArvoreMT()\n",
    "            self.maiores.fit(X[maiores,:],y[maiores])\n",
    "            self.menores = ArvoreMT()\n",
    "            self.menores.fit(X[~maiores,:],y[~maiores])\n",
    "        else:\n",
    "            self.resposta = maisFrequente(y)\n",
    "    def predict(self, X):\n",
    "        y = np.empty((X.shape[0]))\n",
    "        if hasattr(self, 'resposta'):\n",
    "            y[:] = self.resposta\n",
    "        else:\n",
    "            maiores = X[:,self.caracteristica] > self.valor\n",
    "            y[maiores] = self.maiores.predict(X[maiores,:])\n",
    "            y[~maiores] = self.menores.predict(X[~maiores,:])\n",
    "        return y\n"
   ]
  },
  {
   "cell_type": "markdown",
   "metadata": {},
   "source": [
    "### Base 1 - Acelerometer"
   ]
  },
  {
   "cell_type": "code",
   "execution_count": 14,
   "metadata": {},
   "outputs": [
    {
     "data": {
      "text/html": [
       "<div>\n",
       "<style scoped>\n",
       "    .dataframe tbody tr th:only-of-type {\n",
       "        vertical-align: middle;\n",
       "    }\n",
       "\n",
       "    .dataframe tbody tr th {\n",
       "        vertical-align: top;\n",
       "    }\n",
       "\n",
       "    .dataframe thead th {\n",
       "        text-align: right;\n",
       "    }\n",
       "</style>\n",
       "<table border=\"1\" class=\"dataframe\">\n",
       "  <thead>\n",
       "    <tr style=\"text-align: right;\">\n",
       "      <th></th>\n",
       "      <th>wconfid</th>\n",
       "      <th>pctid</th>\n",
       "      <th>x</th>\n",
       "      <th>y</th>\n",
       "      <th>z</th>\n",
       "    </tr>\n",
       "  </thead>\n",
       "  <tbody>\n",
       "    <tr>\n",
       "      <th>0</th>\n",
       "      <td>1</td>\n",
       "      <td>20</td>\n",
       "      <td>1.004</td>\n",
       "      <td>0.090</td>\n",
       "      <td>-0.125</td>\n",
       "    </tr>\n",
       "    <tr>\n",
       "      <th>1</th>\n",
       "      <td>1</td>\n",
       "      <td>20</td>\n",
       "      <td>1.004</td>\n",
       "      <td>-0.043</td>\n",
       "      <td>-0.125</td>\n",
       "    </tr>\n",
       "    <tr>\n",
       "      <th>2</th>\n",
       "      <td>1</td>\n",
       "      <td>20</td>\n",
       "      <td>0.969</td>\n",
       "      <td>0.090</td>\n",
       "      <td>-0.121</td>\n",
       "    </tr>\n",
       "    <tr>\n",
       "      <th>3</th>\n",
       "      <td>1</td>\n",
       "      <td>20</td>\n",
       "      <td>0.973</td>\n",
       "      <td>-0.012</td>\n",
       "      <td>-0.137</td>\n",
       "    </tr>\n",
       "    <tr>\n",
       "      <th>4</th>\n",
       "      <td>1</td>\n",
       "      <td>20</td>\n",
       "      <td>1.000</td>\n",
       "      <td>-0.016</td>\n",
       "      <td>-0.121</td>\n",
       "    </tr>\n",
       "    <tr>\n",
       "      <th>...</th>\n",
       "      <td>...</td>\n",
       "      <td>...</td>\n",
       "      <td>...</td>\n",
       "      <td>...</td>\n",
       "      <td>...</td>\n",
       "    </tr>\n",
       "    <tr>\n",
       "      <th>152995</th>\n",
       "      <td>3</td>\n",
       "      <td>100</td>\n",
       "      <td>1.051</td>\n",
       "      <td>0.090</td>\n",
       "      <td>-0.262</td>\n",
       "    </tr>\n",
       "    <tr>\n",
       "      <th>152996</th>\n",
       "      <td>3</td>\n",
       "      <td>100</td>\n",
       "      <td>0.918</td>\n",
       "      <td>0.039</td>\n",
       "      <td>-0.129</td>\n",
       "    </tr>\n",
       "    <tr>\n",
       "      <th>152997</th>\n",
       "      <td>3</td>\n",
       "      <td>100</td>\n",
       "      <td>1.156</td>\n",
       "      <td>-0.094</td>\n",
       "      <td>-0.227</td>\n",
       "    </tr>\n",
       "    <tr>\n",
       "      <th>152998</th>\n",
       "      <td>3</td>\n",
       "      <td>100</td>\n",
       "      <td>0.934</td>\n",
       "      <td>0.203</td>\n",
       "      <td>-0.172</td>\n",
       "    </tr>\n",
       "    <tr>\n",
       "      <th>152999</th>\n",
       "      <td>3</td>\n",
       "      <td>100</td>\n",
       "      <td>1.199</td>\n",
       "      <td>-0.176</td>\n",
       "      <td>0.109</td>\n",
       "    </tr>\n",
       "  </tbody>\n",
       "</table>\n",
       "<p>153000 rows × 5 columns</p>\n",
       "</div>"
      ],
      "text/plain": [
       "        wconfid  pctid      x      y      z\n",
       "0             1     20  1.004  0.090 -0.125\n",
       "1             1     20  1.004 -0.043 -0.125\n",
       "2             1     20  0.969  0.090 -0.121\n",
       "3             1     20  0.973 -0.012 -0.137\n",
       "4             1     20  1.000 -0.016 -0.121\n",
       "...         ...    ...    ...    ...    ...\n",
       "152995        3    100  1.051  0.090 -0.262\n",
       "152996        3    100  0.918  0.039 -0.129\n",
       "152997        3    100  1.156 -0.094 -0.227\n",
       "152998        3    100  0.934  0.203 -0.172\n",
       "152999        3    100  1.199 -0.176  0.109\n",
       "\n",
       "[153000 rows x 5 columns]"
      ]
     },
     "execution_count": 14,
     "metadata": {},
     "output_type": "execute_result"
    }
   ],
   "source": [
    "# Base de classificação com atributos continuos\n",
    "# https://archive.ics.uci.edu/ml/datasets/Haberman%27s+Survival\n",
    "\n",
    "df = pd.read_csv('https://archive.ics.uci.edu/ml/machine-learning-databases/00611/accelerometer.csv')\n",
    "df"
   ]
  },
  {
   "cell_type": "code",
   "execution_count": 15,
   "metadata": {},
   "outputs": [
    {
     "data": {
      "text/plain": [
       "<bound method NDFrame.keys of         wconfid  pctid      x      y      z\n",
       "0             1     20  1.004  0.090 -0.125\n",
       "1             1     20  1.004 -0.043 -0.125\n",
       "2             1     20  0.969  0.090 -0.121\n",
       "3             1     20  0.973 -0.012 -0.137\n",
       "4             1     20  1.000 -0.016 -0.121\n",
       "...         ...    ...    ...    ...    ...\n",
       "152995        3    100  1.051  0.090 -0.262\n",
       "152996        3    100  0.918  0.039 -0.129\n",
       "152997        3    100  1.156 -0.094 -0.227\n",
       "152998        3    100  0.934  0.203 -0.172\n",
       "152999        3    100  1.199 -0.176  0.109\n",
       "\n",
       "[153000 rows x 5 columns]>"
      ]
     },
     "execution_count": 15,
     "metadata": {},
     "output_type": "execute_result"
    }
   ],
   "source": [
    "# Abrir as chaves \n",
    "df.keys"
   ]
  },
  {
   "cell_type": "code",
   "execution_count": 16,
   "metadata": {},
   "outputs": [
    {
     "data": {
      "text/plain": [
       "(153000, 5)"
      ]
     },
     "execution_count": 16,
     "metadata": {},
     "output_type": "execute_result"
    }
   ],
   "source": [
    "# Quantidade dos dados\n",
    "df.shape"
   ]
  },
  {
   "cell_type": "code",
   "execution_count": 17,
   "metadata": {},
   "outputs": [
    {
     "data": {
      "text/plain": [
       "((153000,), (153000,), {1, 2, 3})"
      ]
     },
     "execution_count": 17,
     "metadata": {},
     "output_type": "execute_result"
    }
   ],
   "source": [
    "# Divisão em Dados e Target\n",
    "X, y = df.pctid, df.wconfid\n",
    "\n",
    "X.shape, y.shape, set(y) # temos 3 variaveis"
   ]
  },
  {
   "cell_type": "code",
   "execution_count": 18,
   "metadata": {},
   "outputs": [
    {
     "data": {
      "image/png": "[encoded data removed]",
      "text/plain": [
       "<Figure size 432x288 with 1 Axes>"
      ]
     },
     "metadata": {
      "needs_background": "light"
     },
     "output_type": "display_data"
    }
   ],
   "source": [
    "# Plotar gráfico\n",
    "plt.xlabel(f\"pctid\")\n",
    "plt.ylabel(f\"wconfid\")\n",
    "for k in set(y):\n",
    "    plt.plot(X[:][y==k], \"o\", label=f\"{y[k]}\")\n",
    "plt.legend()\n",
    "plt.show()"
   ]
  },
  {
   "cell_type": "code",
   "execution_count": 19,
   "metadata": {},
   "outputs": [
    {
     "data": {
      "image/png": "[encoded data removed]",
      "text/plain": [
       "<Figure size 432x288 with 1 Axes>"
      ]
     },
     "metadata": {
      "needs_background": "light"
     },
     "output_type": "display_data"
    }
   ],
   "source": [
    "X2 = df[\"z\"].values\n",
    "y2 = df[\"wconfid\"].values\n",
    "\n",
    "plt.scatter(X2,y2)\n",
    "plt.show()"
   ]
  },
  {
   "cell_type": "code",
   "execution_count": 20,
   "metadata": {},
   "outputs": [
    {
     "data": {
      "text/plain": [
       "array([[1],\n",
       "       [1],\n",
       "       [1],\n",
       "       ...,\n",
       "       [3],\n",
       "       [3],\n",
       "       [3]], dtype=int64)"
      ]
     },
     "execution_count": 20,
     "metadata": {},
     "output_type": "execute_result"
    }
   ],
   "source": [
    "# Função Reshape\n",
    "X = X2.reshape(-1,1)\n",
    "y = y2.reshape(-1,1)\n",
    "y"
   ]
  },
  {
   "cell_type": "code",
   "execution_count": 21,
   "metadata": {},
   "outputs": [
    {
     "data": {
      "text/plain": [
       "0.34239869281045754"
      ]
     },
     "execution_count": 21,
     "metadata": {},
     "output_type": "execute_result"
    }
   ],
   "source": [
    "# Acurácia\n",
    "\n",
    "import numpy as np\n",
    "\n",
    "# Acurácia Scikitlearn\n",
    "ArvoreSK.fit(X, y)\n",
    "ypred = ArvoreSK.predict(X)\n",
    "accSK = accuracy_score(y, ypred),# (ypred == y)\n",
    "accSK\n",
    "\n",
    "# Acurácia Video\n",
    "modelo = ArvoreVD()\n",
    "modelo.fit(X,y)\n",
    "ypred = modelo.predict(X)\n",
    "accVD = accuracy_score(y, ypred)#, (ypred == y)\n",
    "accVD \n",
    "\n",
    "# Acurácia Matheus\n",
    "modelo = ArvoreMT()\n",
    "modelo.fit(X,y)\n",
    "ypred = modelo.predict(X)\n",
    "accMT = accuracy_score(y, ypred)#, (ypred == y)\n",
    "accMT"
   ]
  },
  {
   "cell_type": "code",
   "execution_count": 22,
   "metadata": {},
   "outputs": [
    {
     "name": "stdout",
     "output_type": "stream",
     "text": [
      "Acurácia Heuristica ScikitLearn         : (0.4971437908496732,)\n",
      "Acurácia Cruzada Heuristica Vídeo       : 0.4971437908496732\n",
      "Acurácia Cruzada Heuristica Matheus     : 0.34239869281045754\n"
     ]
    }
   ],
   "source": [
    "# Print Acuracia\n",
    "print(f\"Acurácia Heuristica ScikitLearn         : {accSK}\")\n",
    "print(f\"Acurácia Cruzada Heuristica Vídeo       : {accVD}\")\n",
    "print(f\"Acurácia Cruzada Heuristica Matheus     : {accMT}\")"
   ]
  },
  {
   "cell_type": "code",
   "execution_count": 23,
   "metadata": {},
   "outputs": [
    {
     "name": "stdout",
     "output_type": "stream",
     "text": [
      "Validação Cruzada Heuristica ScikitLearn : [-1.28866349 -1.16975781 -0.9363746  -0.95785367 -0.99998366]\n",
      "Validação Cruzada Heuristica Vídeo       : [-1.28866349 -1.16975781 -0.9363746  -0.95785367 -0.9996568 ]\n",
      "Validação Cruzada Heuristica Matheus     : [-1.29099445 -1.29099445 -1.29099445 -1.27674013 -1.23367775]\n"
     ]
    }
   ],
   "source": [
    "# Validação Cruzada\n",
    "\n",
    "# Validação Cruzada Scikitlearn\n",
    "scoresSK = cross_validate(ArvoreSK, X, y, scoring=make_scorer\n",
    "(mean_squared_error, greater_is_better=False, squared=False))\n",
    "# Validação Cruzada Video\n",
    "scoresVD = cross_validate(ArvoreVD(), X, y, scoring=make_scorer\n",
    "(mean_squared_error, greater_is_better=False, squared=False))\n",
    "# Validação Cruzada Matheus\n",
    "scoresMT = cross_validate(ArvoreMT(), X, y, scoring=make_scorer\n",
    "(mean_squared_error, greater_is_better=False, squared=False))\n",
    "\n",
    "print(f\"Validação Cruzada Heuristica ScikitLearn : {scoresSK['test_score']}\")\n",
    "print(f\"Validação Cruzada Heuristica Vídeo       : {scoresVD['test_score']}\")\n",
    "print(f\"Validação Cruzada Heuristica Matheus     : {scoresMT['test_score']}\")"
   ]
  },
  {
   "cell_type": "markdown",
   "metadata": {},
   "source": [
    "### Base 2 - Breast Cancer Coimbra Data Set"
   ]
  },
  {
   "cell_type": "code",
   "execution_count": 24,
   "metadata": {},
   "outputs": [
    {
     "data": {
      "text/html": [
       "<div>\n",
       "<style scoped>\n",
       "    .dataframe tbody tr th:only-of-type {\n",
       "        vertical-align: middle;\n",
       "    }\n",
       "\n",
       "    .dataframe tbody tr th {\n",
       "        vertical-align: top;\n",
       "    }\n",
       "\n",
       "    .dataframe thead th {\n",
       "        text-align: right;\n",
       "    }\n",
       "</style>\n",
       "<table border=\"1\" class=\"dataframe\">\n",
       "  <thead>\n",
       "    <tr style=\"text-align: right;\">\n",
       "      <th></th>\n",
       "      <th>Age</th>\n",
       "      <th>BMI</th>\n",
       "      <th>Glucose</th>\n",
       "      <th>Insulin</th>\n",
       "      <th>HOMA</th>\n",
       "      <th>Leptin</th>\n",
       "      <th>Adiponectin</th>\n",
       "      <th>Resistin</th>\n",
       "      <th>MCP.1</th>\n",
       "      <th>Classification</th>\n",
       "    </tr>\n",
       "  </thead>\n",
       "  <tbody>\n",
       "    <tr>\n",
       "      <th>0</th>\n",
       "      <td>48</td>\n",
       "      <td>23.500000</td>\n",
       "      <td>70</td>\n",
       "      <td>2.707</td>\n",
       "      <td>0.467409</td>\n",
       "      <td>8.8071</td>\n",
       "      <td>9.702400</td>\n",
       "      <td>7.99585</td>\n",
       "      <td>417.114</td>\n",
       "      <td>1</td>\n",
       "    </tr>\n",
       "    <tr>\n",
       "      <th>1</th>\n",
       "      <td>83</td>\n",
       "      <td>20.690495</td>\n",
       "      <td>92</td>\n",
       "      <td>3.115</td>\n",
       "      <td>0.706897</td>\n",
       "      <td>8.8438</td>\n",
       "      <td>5.429285</td>\n",
       "      <td>4.06405</td>\n",
       "      <td>468.786</td>\n",
       "      <td>1</td>\n",
       "    </tr>\n",
       "    <tr>\n",
       "      <th>2</th>\n",
       "      <td>82</td>\n",
       "      <td>23.124670</td>\n",
       "      <td>91</td>\n",
       "      <td>4.498</td>\n",
       "      <td>1.009651</td>\n",
       "      <td>17.9393</td>\n",
       "      <td>22.432040</td>\n",
       "      <td>9.27715</td>\n",
       "      <td>554.697</td>\n",
       "      <td>1</td>\n",
       "    </tr>\n",
       "    <tr>\n",
       "      <th>3</th>\n",
       "      <td>68</td>\n",
       "      <td>21.367521</td>\n",
       "      <td>77</td>\n",
       "      <td>3.226</td>\n",
       "      <td>0.612725</td>\n",
       "      <td>9.8827</td>\n",
       "      <td>7.169560</td>\n",
       "      <td>12.76600</td>\n",
       "      <td>928.220</td>\n",
       "      <td>1</td>\n",
       "    </tr>\n",
       "    <tr>\n",
       "      <th>4</th>\n",
       "      <td>86</td>\n",
       "      <td>21.111111</td>\n",
       "      <td>92</td>\n",
       "      <td>3.549</td>\n",
       "      <td>0.805386</td>\n",
       "      <td>6.6994</td>\n",
       "      <td>4.819240</td>\n",
       "      <td>10.57635</td>\n",
       "      <td>773.920</td>\n",
       "      <td>1</td>\n",
       "    </tr>\n",
       "    <tr>\n",
       "      <th>...</th>\n",
       "      <td>...</td>\n",
       "      <td>...</td>\n",
       "      <td>...</td>\n",
       "      <td>...</td>\n",
       "      <td>...</td>\n",
       "      <td>...</td>\n",
       "      <td>...</td>\n",
       "      <td>...</td>\n",
       "      <td>...</td>\n",
       "      <td>...</td>\n",
       "    </tr>\n",
       "    <tr>\n",
       "      <th>111</th>\n",
       "      <td>45</td>\n",
       "      <td>26.850000</td>\n",
       "      <td>92</td>\n",
       "      <td>3.330</td>\n",
       "      <td>0.755688</td>\n",
       "      <td>54.6800</td>\n",
       "      <td>12.100000</td>\n",
       "      <td>10.96000</td>\n",
       "      <td>268.230</td>\n",
       "      <td>2</td>\n",
       "    </tr>\n",
       "    <tr>\n",
       "      <th>112</th>\n",
       "      <td>62</td>\n",
       "      <td>26.840000</td>\n",
       "      <td>100</td>\n",
       "      <td>4.530</td>\n",
       "      <td>1.117400</td>\n",
       "      <td>12.4500</td>\n",
       "      <td>21.420000</td>\n",
       "      <td>7.32000</td>\n",
       "      <td>330.160</td>\n",
       "      <td>2</td>\n",
       "    </tr>\n",
       "    <tr>\n",
       "      <th>113</th>\n",
       "      <td>65</td>\n",
       "      <td>32.050000</td>\n",
       "      <td>97</td>\n",
       "      <td>5.730</td>\n",
       "      <td>1.370998</td>\n",
       "      <td>61.4800</td>\n",
       "      <td>22.540000</td>\n",
       "      <td>10.33000</td>\n",
       "      <td>314.050</td>\n",
       "      <td>2</td>\n",
       "    </tr>\n",
       "    <tr>\n",
       "      <th>114</th>\n",
       "      <td>72</td>\n",
       "      <td>25.590000</td>\n",
       "      <td>82</td>\n",
       "      <td>2.820</td>\n",
       "      <td>0.570392</td>\n",
       "      <td>24.9600</td>\n",
       "      <td>33.750000</td>\n",
       "      <td>3.27000</td>\n",
       "      <td>392.460</td>\n",
       "      <td>2</td>\n",
       "    </tr>\n",
       "    <tr>\n",
       "      <th>115</th>\n",
       "      <td>86</td>\n",
       "      <td>27.180000</td>\n",
       "      <td>138</td>\n",
       "      <td>19.910</td>\n",
       "      <td>6.777364</td>\n",
       "      <td>90.2800</td>\n",
       "      <td>14.110000</td>\n",
       "      <td>4.35000</td>\n",
       "      <td>90.090</td>\n",
       "      <td>2</td>\n",
       "    </tr>\n",
       "  </tbody>\n",
       "</table>\n",
       "<p>116 rows × 10 columns</p>\n",
       "</div>"
      ],
      "text/plain": [
       "     Age        BMI  Glucose  Insulin      HOMA   Leptin  Adiponectin  \\\n",
       "0     48  23.500000       70    2.707  0.467409   8.8071     9.702400   \n",
       "1     83  20.690495       92    3.115  0.706897   8.8438     5.429285   \n",
       "2     82  23.124670       91    4.498  1.009651  17.9393    22.432040   \n",
       "3     68  21.367521       77    3.226  0.612725   9.8827     7.169560   \n",
       "4     86  21.111111       92    3.549  0.805386   6.6994     4.819240   \n",
       "..   ...        ...      ...      ...       ...      ...          ...   \n",
       "111   45  26.850000       92    3.330  0.755688  54.6800    12.100000   \n",
       "112   62  26.840000      100    4.530  1.117400  12.4500    21.420000   \n",
       "113   65  32.050000       97    5.730  1.370998  61.4800    22.540000   \n",
       "114   72  25.590000       82    2.820  0.570392  24.9600    33.750000   \n",
       "115   86  27.180000      138   19.910  6.777364  90.2800    14.110000   \n",
       "\n",
       "     Resistin    MCP.1  Classification  \n",
       "0     7.99585  417.114               1  \n",
       "1     4.06405  468.786               1  \n",
       "2     9.27715  554.697               1  \n",
       "3    12.76600  928.220               1  \n",
       "4    10.57635  773.920               1  \n",
       "..        ...      ...             ...  \n",
       "111  10.96000  268.230               2  \n",
       "112   7.32000  330.160               2  \n",
       "113  10.33000  314.050               2  \n",
       "114   3.27000  392.460               2  \n",
       "115   4.35000   90.090               2  \n",
       "\n",
       "[116 rows x 10 columns]"
      ]
     },
     "execution_count": 24,
     "metadata": {},
     "output_type": "execute_result"
    }
   ],
   "source": [
    "import pandas as pd\n",
    "#df1 = pd.read_csv(\"https://archive.ics.uci.edu/ml/machine-learning-databases/00601/ai4i2020.csv\")\n",
    "#df1 = pd.read_csv(\"https://archive.ics.uci.edu/ml/machine-learning-databases/00547/Algerian_forest_fires_dataset_UPDATE.csv\")\n",
    "#df1 = pd.read_csv(\"https://archive.ics.uci.edu/ml/machine-learning-databases/blood-transfusion/transfusion.data\")\n",
    "df = pd.read_csv(\"https://archive.ics.uci.edu/ml/machine-learning-databases/00451/dataR2.csv\")\n",
    "df"
   ]
  },
  {
   "cell_type": "code",
   "execution_count": 25,
   "metadata": {},
   "outputs": [
    {
     "data": {
      "text/plain": [
       "Index(['Age', 'BMI', 'Glucose', 'Insulin', 'HOMA', 'Leptin', 'Adiponectin',\n",
       "       'Resistin', 'MCP.1', 'Classification'],\n",
       "      dtype='object')"
      ]
     },
     "execution_count": 25,
     "metadata": {},
     "output_type": "execute_result"
    }
   ],
   "source": [
    "df.keys()"
   ]
  },
  {
   "cell_type": "code",
   "execution_count": 26,
   "metadata": {},
   "outputs": [
    {
     "data": {
      "text/plain": [
       "((116,), (116,), {1, 2})"
      ]
     },
     "execution_count": 26,
     "metadata": {},
     "output_type": "execute_result"
    }
   ],
   "source": [
    "X, y = df.Age, df.Classification\n",
    "\n",
    "X.shape, y.shape, set(y) # temos 3 variaveis"
   ]
  },
  {
   "cell_type": "code",
   "execution_count": 27,
   "metadata": {},
   "outputs": [
    {
     "data": {
      "image/png": "[encoded data removed]",
      "text/plain": [
       "<Figure size 432x288 with 1 Axes>"
      ]
     },
     "metadata": {
      "needs_background": "light"
     },
     "output_type": "display_data"
    }
   ],
   "source": [
    "import matplotlib.pyplot as plt\n",
    "# Plotar gráfico\n",
    "plt.xlabel(f\"Age\")\n",
    "plt.ylabel(f\"Classification\")\n",
    "for k in set(y):\n",
    "    plt.plot(X[:][y==k], \"o\", label=f\"{y[k]}\")\n",
    "plt.legend()\n",
    "plt.show()"
   ]
  },
  {
   "cell_type": "code",
   "execution_count": 28,
   "metadata": {},
   "outputs": [
    {
     "data": {
      "image/png": "[encoded data removed]",
      "text/plain": [
       "<Figure size 432x288 with 1 Axes>"
      ]
     },
     "metadata": {
      "needs_background": "light"
     },
     "output_type": "display_data"
    }
   ],
   "source": [
    "X2 = df[\"Age\"].values\n",
    "y2 = df[\"Classification\"].values\n",
    "\n",
    "plt.scatter(X2,y2)\n",
    "plt.show()"
   ]
  },
  {
   "cell_type": "code",
   "execution_count": 29,
   "metadata": {},
   "outputs": [
    {
     "data": {
      "text/plain": [
       "array([[1],\n",
       "       [1],\n",
       "       [1],\n",
       "       [1],\n",
       "       [1],\n",
       "       [1],\n",
       "       [1],\n",
       "       [1],\n",
       "       [1],\n",
       "       [1],\n",
       "       [1],\n",
       "       [1],\n",
       "       [1],\n",
       "       [1],\n",
       "       [1],\n",
       "       [1],\n",
       "       [1],\n",
       "       [1],\n",
       "       [1],\n",
       "       [1],\n",
       "       [1],\n",
       "       [1],\n",
       "       [1],\n",
       "       [1],\n",
       "       [1],\n",
       "       [1],\n",
       "       [1],\n",
       "       [1],\n",
       "       [1],\n",
       "       [1],\n",
       "       [1],\n",
       "       [1],\n",
       "       [1],\n",
       "       [1],\n",
       "       [1],\n",
       "       [1],\n",
       "       [1],\n",
       "       [1],\n",
       "       [1],\n",
       "       [1],\n",
       "       [1],\n",
       "       [1],\n",
       "       [1],\n",
       "       [1],\n",
       "       [1],\n",
       "       [1],\n",
       "       [1],\n",
       "       [1],\n",
       "       [1],\n",
       "       [1],\n",
       "       [1],\n",
       "       [1],\n",
       "       [2],\n",
       "       [2],\n",
       "       [2],\n",
       "       [2],\n",
       "       [2],\n",
       "       [2],\n",
       "       [2],\n",
       "       [2],\n",
       "       [2],\n",
       "       [2],\n",
       "       [2],\n",
       "       [2],\n",
       "       [2],\n",
       "       [2],\n",
       "       [2],\n",
       "       [2],\n",
       "       [2],\n",
       "       [2],\n",
       "       [2],\n",
       "       [2],\n",
       "       [2],\n",
       "       [2],\n",
       "       [2],\n",
       "       [2],\n",
       "       [2],\n",
       "       [2],\n",
       "       [2],\n",
       "       [2],\n",
       "       [2],\n",
       "       [2],\n",
       "       [2],\n",
       "       [2],\n",
       "       [2],\n",
       "       [2],\n",
       "       [2],\n",
       "       [2],\n",
       "       [2],\n",
       "       [2],\n",
       "       [2],\n",
       "       [2],\n",
       "       [2],\n",
       "       [2],\n",
       "       [2],\n",
       "       [2],\n",
       "       [2],\n",
       "       [2],\n",
       "       [2],\n",
       "       [2],\n",
       "       [2],\n",
       "       [2],\n",
       "       [2],\n",
       "       [2],\n",
       "       [2],\n",
       "       [2],\n",
       "       [2],\n",
       "       [2],\n",
       "       [2],\n",
       "       [2],\n",
       "       [2],\n",
       "       [2],\n",
       "       [2],\n",
       "       [2],\n",
       "       [2],\n",
       "       [2]], dtype=int64)"
      ]
     },
     "execution_count": 29,
     "metadata": {},
     "output_type": "execute_result"
    }
   ],
   "source": [
    "# Função Reshape\n",
    "X = X2.reshape(-1,1)\n",
    "y = y2.reshape(-1,1)\n",
    "y"
   ]
  },
  {
   "cell_type": "code",
   "execution_count": 30,
   "metadata": {},
   "outputs": [
    {
     "data": {
      "text/plain": [
       "0.5517241379310345"
      ]
     },
     "execution_count": 30,
     "metadata": {},
     "output_type": "execute_result"
    }
   ],
   "source": [
    "# Acurácia\n",
    "\n",
    "import numpy as np\n",
    "\n",
    "# Acurácia Scikitlearn\n",
    "ArvoreSK.fit(X, y)\n",
    "ypred = ArvoreSK.predict(X)\n",
    "accSK = accuracy_score(y, ypred),# (ypred == y)\n",
    "accSK\n",
    "\n",
    "# Acurácia Video\n",
    "modelo = ArvoreVD()\n",
    "modelo.fit(X,y)\n",
    "ypred = modelo.predict(X)\n",
    "accVD = accuracy_score(y, ypred)#, (ypred == y)\n",
    "accVD \n",
    "\n",
    "# Acurácia Matheus\n",
    "modelo = ArvoreMT()\n",
    "modelo.fit(X,y)\n",
    "ypred = modelo.predict(X)\n",
    "accMT = accuracy_score(y, ypred)#, (ypred == y)\n",
    "accMT"
   ]
  },
  {
   "cell_type": "code",
   "execution_count": 31,
   "metadata": {},
   "outputs": [
    {
     "name": "stdout",
     "output_type": "stream",
     "text": [
      "Acurácia Heuristica ScikitLearn         : (0.8189655172413793,)\n",
      "Acurácia Cruzada Heuristica Vídeo       : 0.8189655172413793\n",
      "Acurácia Cruzada Heuristica Matheus     : 0.5517241379310345\n"
     ]
    }
   ],
   "source": [
    "# Print Acuracia\n",
    "print(f\"Acurácia Heuristica ScikitLearn         : {accSK}\")\n",
    "print(f\"Acurácia Cruzada Heuristica Vídeo       : {accVD}\")\n",
    "print(f\"Acurácia Cruzada Heuristica Matheus     : {accMT}\")"
   ]
  },
  {
   "cell_type": "code",
   "execution_count": 32,
   "metadata": {},
   "outputs": [
    {
     "name": "stdout",
     "output_type": "stream",
     "text": [
      "Validação Cruzada Heuristica ScikitLearn : [-0.73598007 -0.55167728 -0.72231512 -0.58976782 -0.62554324]\n",
      "Validação Cruzada Heuristica Vídeo       : [-0.73598007 -0.55167728 -0.72231512 -0.62554324 -0.62554324]\n",
      "Validação Cruzada Heuristica Matheus     : [-0.6770032  -0.69156407 -0.65938047 -0.65938047 -0.65938047]\n"
     ]
    }
   ],
   "source": [
    "# Validação Cruzada\n",
    "\n",
    "# Validação Cruzada Scikitlearn\n",
    "scoresSK = cross_validate(ArvoreSK, X, y, scoring=make_scorer\n",
    "(mean_squared_error, greater_is_better=False, squared=False))\n",
    "# Validação Cruzada Video\n",
    "scoresVD = cross_validate(ArvoreVD(), X, y, scoring=make_scorer\n",
    "(mean_squared_error, greater_is_better=False, squared=False))\n",
    "# Validação Cruzada Matheus\n",
    "scoresMT = cross_validate(ArvoreMT(), X, y, scoring=make_scorer\n",
    "(mean_squared_error, greater_is_better=False, squared=False))\n",
    "\n",
    "print(f\"Validação Cruzada Heuristica ScikitLearn : {scoresSK['test_score']}\")\n",
    "print(f\"Validação Cruzada Heuristica Vídeo       : {scoresVD['test_score']}\")\n",
    "print(f\"Validação Cruzada Heuristica Matheus     : {scoresMT['test_score']}\")"
   ]
  },
  {
   "cell_type": "markdown",
   "metadata": {},
   "source": [
    "### Base 3 - TUANDROMD ( Tezpur University Android Malware Dataset) Data Set"
   ]
  },
  {
   "cell_type": "code",
   "execution_count": 33,
   "metadata": {},
   "outputs": [
    {
     "data": {
      "text/html": [
       "<div>\n",
       "<style scoped>\n",
       "    .dataframe tbody tr th:only-of-type {\n",
       "        vertical-align: middle;\n",
       "    }\n",
       "\n",
       "    .dataframe tbody tr th {\n",
       "        vertical-align: top;\n",
       "    }\n",
       "\n",
       "    .dataframe thead th {\n",
       "        text-align: right;\n",
       "    }\n",
       "</style>\n",
       "<table border=\"1\" class=\"dataframe\">\n",
       "  <thead>\n",
       "    <tr style=\"text-align: right;\">\n",
       "      <th></th>\n",
       "      <th>User Id</th>\n",
       "      <th>Sports</th>\n",
       "      <th>Religious</th>\n",
       "      <th>Nature</th>\n",
       "      <th>Theatre</th>\n",
       "      <th>Shopping</th>\n",
       "      <th>Picnic</th>\n",
       "    </tr>\n",
       "  </thead>\n",
       "  <tbody>\n",
       "    <tr>\n",
       "      <th>0</th>\n",
       "      <td>User 1</td>\n",
       "      <td>2</td>\n",
       "      <td>77</td>\n",
       "      <td>79</td>\n",
       "      <td>69</td>\n",
       "      <td>68</td>\n",
       "      <td>95</td>\n",
       "    </tr>\n",
       "    <tr>\n",
       "      <th>1</th>\n",
       "      <td>User 2</td>\n",
       "      <td>2</td>\n",
       "      <td>62</td>\n",
       "      <td>76</td>\n",
       "      <td>76</td>\n",
       "      <td>69</td>\n",
       "      <td>68</td>\n",
       "    </tr>\n",
       "    <tr>\n",
       "      <th>2</th>\n",
       "      <td>User 3</td>\n",
       "      <td>2</td>\n",
       "      <td>50</td>\n",
       "      <td>97</td>\n",
       "      <td>87</td>\n",
       "      <td>50</td>\n",
       "      <td>75</td>\n",
       "    </tr>\n",
       "    <tr>\n",
       "      <th>3</th>\n",
       "      <td>User 4</td>\n",
       "      <td>2</td>\n",
       "      <td>68</td>\n",
       "      <td>77</td>\n",
       "      <td>95</td>\n",
       "      <td>76</td>\n",
       "      <td>61</td>\n",
       "    </tr>\n",
       "    <tr>\n",
       "      <th>4</th>\n",
       "      <td>User 5</td>\n",
       "      <td>2</td>\n",
       "      <td>98</td>\n",
       "      <td>54</td>\n",
       "      <td>59</td>\n",
       "      <td>95</td>\n",
       "      <td>86</td>\n",
       "    </tr>\n",
       "    <tr>\n",
       "      <th>...</th>\n",
       "      <td>...</td>\n",
       "      <td>...</td>\n",
       "      <td>...</td>\n",
       "      <td>...</td>\n",
       "      <td>...</td>\n",
       "      <td>...</td>\n",
       "      <td>...</td>\n",
       "    </tr>\n",
       "    <tr>\n",
       "      <th>244</th>\n",
       "      <td>User 245</td>\n",
       "      <td>18</td>\n",
       "      <td>139</td>\n",
       "      <td>148</td>\n",
       "      <td>129</td>\n",
       "      <td>129</td>\n",
       "      <td>168</td>\n",
       "    </tr>\n",
       "    <tr>\n",
       "      <th>245</th>\n",
       "      <td>User 246</td>\n",
       "      <td>22</td>\n",
       "      <td>114</td>\n",
       "      <td>228</td>\n",
       "      <td>104</td>\n",
       "      <td>84</td>\n",
       "      <td>168</td>\n",
       "    </tr>\n",
       "    <tr>\n",
       "      <th>246</th>\n",
       "      <td>User 247</td>\n",
       "      <td>20</td>\n",
       "      <td>124</td>\n",
       "      <td>178</td>\n",
       "      <td>104</td>\n",
       "      <td>158</td>\n",
       "      <td>174</td>\n",
       "    </tr>\n",
       "    <tr>\n",
       "      <th>247</th>\n",
       "      <td>User 248</td>\n",
       "      <td>20</td>\n",
       "      <td>133</td>\n",
       "      <td>149</td>\n",
       "      <td>139</td>\n",
       "      <td>144</td>\n",
       "      <td>213</td>\n",
       "    </tr>\n",
       "    <tr>\n",
       "      <th>248</th>\n",
       "      <td>User 249</td>\n",
       "      <td>20</td>\n",
       "      <td>143</td>\n",
       "      <td>149</td>\n",
       "      <td>139</td>\n",
       "      <td>159</td>\n",
       "      <td>143</td>\n",
       "    </tr>\n",
       "  </tbody>\n",
       "</table>\n",
       "<p>249 rows × 7 columns</p>\n",
       "</div>"
      ],
      "text/plain": [
       "      User Id  Sports  Religious  Nature  Theatre  Shopping  Picnic\n",
       "0      User 1       2         77      79       69        68      95\n",
       "1      User 2       2         62      76       76        69      68\n",
       "2      User 3       2         50      97       87        50      75\n",
       "3      User 4       2         68      77       95        76      61\n",
       "4      User 5       2         98      54       59        95      86\n",
       "..        ...     ...        ...     ...      ...       ...     ...\n",
       "244  User 245      18        139     148      129       129     168\n",
       "245  User 246      22        114     228      104        84     168\n",
       "246  User 247      20        124     178      104       158     174\n",
       "247  User 248      20        133     149      139       144     213\n",
       "248  User 249      20        143     149      139       159     143\n",
       "\n",
       "[249 rows x 7 columns]"
      ]
     },
     "execution_count": 33,
     "metadata": {},
     "output_type": "execute_result"
    }
   ],
   "source": [
    "import pandas as pd\n",
    "#df1 = pd.read_csv(\"https://archive.ics.uci.edu/ml/machine-learning-databases/00476/buddymove_holidayiq.csv\")\n",
    "#df1 = pd.read_csv(\"https://archive.ics.uci.edu/ml/machine-learning-databases/00523/Exasens.csv\")\n",
    "#df1 = pd.read_csv(\"https://archive.ics.uci.edu/ml/machine-learning-databases/glass/glass.data\")\n",
    "#df1 = pd.read_csv(\"https://archive.ics.uci.edu/ml/machine-learning-databases/00485/google_review_ratings.csv\")\n",
    "#df1 = pd.read_csv(\"https://archive.ics.uci.edu/ml/machine-learning-databases/00484/tripadvisor_review.csv\")\n",
    "#df1 = pd.read_csv(\"https://archive.ics.uci.edu/ml/machine-learning-databases/00622/TUANDROMD.csv\")\n",
    "df = pd.read_csv(\"https://archive.ics.uci.edu/ml/machine-learning-databases/00476/buddymove_holidayiq.csv\")\n",
    "df"
   ]
  },
  {
   "cell_type": "code",
   "execution_count": 34,
   "metadata": {},
   "outputs": [
    {
     "data": {
      "text/plain": [
       "((249,), (249,), {2, 3, 4, 5, 6, 8, 10, 12, 14, 16, 18, 20, 22, 25})"
      ]
     },
     "execution_count": 34,
     "metadata": {},
     "output_type": "execute_result"
    }
   ],
   "source": [
    "y, X = df.Sports, df.Nature\n",
    "\n",
    "X.shape, y.shape, set(y) # temos 3 variaveis"
   ]
  },
  {
   "cell_type": "code",
   "execution_count": 35,
   "metadata": {},
   "outputs": [
    {
     "data": {
      "image/png": "[encoded data removed]",
      "text/plain": [
       "<Figure size 432x288 with 1 Axes>"
      ]
     },
     "metadata": {
      "needs_background": "light"
     },
     "output_type": "display_data"
    }
   ],
   "source": [
    "import matplotlib.pyplot as plt\n",
    "# Plotar gráfico\n",
    "plt.xlabel(f\"Sports\")\n",
    "plt.ylabel(f\"Religious\")\n",
    "for k in set(y):\n",
    "    plt.plot(X[:][y==k], \"o\", label=f\"{y[k]}\")\n",
    "plt.legend()\n",
    "plt.show()"
   ]
  },
  {
   "cell_type": "code",
   "execution_count": 36,
   "metadata": {},
   "outputs": [
    {
     "data": {
      "image/png": "[encoded data removed]",
      "text/plain": [
       "<Figure size 432x288 with 1 Axes>"
      ]
     },
     "metadata": {
      "needs_background": "light"
     },
     "output_type": "display_data"
    }
   ],
   "source": [
    "X2 = df[\"Sports\"].values\n",
    "y2 = df[\"Religious\"].values\n",
    "\n",
    "plt.scatter(X2,y2)\n",
    "plt.show()"
   ]
  },
  {
   "cell_type": "code",
   "execution_count": 37,
   "metadata": {},
   "outputs": [],
   "source": [
    "# Função Reshape\n",
    "X = X2.reshape(-1,1)\n",
    "y = y2.reshape(-1,1)"
   ]
  },
  {
   "cell_type": "code",
   "execution_count": 38,
   "metadata": {},
   "outputs": [
    {
     "data": {
      "text/plain": [
       "0.06827309236947791"
      ]
     },
     "execution_count": 38,
     "metadata": {},
     "output_type": "execute_result"
    }
   ],
   "source": [
    "# Acurácia\n",
    "\n",
    "import numpy as np\n",
    "\n",
    "# Acurácia Scikitlearn\n",
    "ArvoreSK.fit(X, y)\n",
    "ypred = ArvoreSK.predict(X)\n",
    "accSK = accuracy_score(y, ypred),# (ypred == y)\n",
    "accSK\n",
    "\n",
    "# Acurácia Video\n",
    "modelo = ArvoreVD()\n",
    "modelo.fit(X,y)\n",
    "ypred = modelo.predict(X)\n",
    "accVD = accuracy_score(y, ypred)#, (ypred == y)\n",
    "accVD \n",
    "\n",
    "# Acurácia Matheus\n",
    "modelo = ArvoreMT()\n",
    "modelo.fit(X,y)\n",
    "ypred = modelo.predict(X)\n",
    "accMT = accuracy_score(y, ypred)#, (ypred == y)\n",
    "accMT"
   ]
  },
  {
   "cell_type": "code",
   "execution_count": 39,
   "metadata": {},
   "outputs": [
    {
     "name": "stdout",
     "output_type": "stream",
     "text": [
      "Acurácia Heuristica ScikitLearn         : (0.18473895582329317,)\n",
      "Acurácia Cruzada Heuristica Vídeo       : 0.18473895582329317\n",
      "Acurácia Cruzada Heuristica Matheus     : 0.06827309236947791\n"
     ]
    }
   ],
   "source": [
    "# Print Acuracia\n",
    "print(f\"Acurácia Heuristica ScikitLearn         : {accSK}\")\n",
    "print(f\"Acurácia Cruzada Heuristica Vídeo       : {accVD}\")\n",
    "print(f\"Acurácia Cruzada Heuristica Matheus     : {accMT}\")"
   ]
  },
  {
   "cell_type": "code",
   "execution_count": 40,
   "metadata": {},
   "outputs": [
    {
     "name": "stderr",
     "output_type": "stream",
     "text": [
      "c:\\Users\\mathe\\AppData\\Local\\Programs\\Python\\Python39\\lib\\site-packages\\sklearn\\model_selection\\_split.py:676: UserWarning: The least populated class in y has only 1 members, which is less than n_splits=5.\n",
      "  warnings.warn(\n",
      "c:\\Users\\mathe\\AppData\\Local\\Programs\\Python\\Python39\\lib\\site-packages\\sklearn\\model_selection\\_split.py:676: UserWarning: The least populated class in y has only 1 members, which is less than n_splits=5.\n",
      "  warnings.warn(\n",
      "c:\\Users\\mathe\\AppData\\Local\\Programs\\Python\\Python39\\lib\\site-packages\\sklearn\\model_selection\\_split.py:676: UserWarning: The least populated class in y has only 1 members, which is less than n_splits=5.\n",
      "  warnings.warn(\n"
     ]
    },
    {
     "name": "stdout",
     "output_type": "stream",
     "text": [
      "Validação Cruzada Heuristica ScikitLearn : [-38.31605408 -27.2572926  -35.38502508 -38.85871846 -29.1935833 ]\n",
      "Validação Cruzada Heuristica Vídeo       : [-35.93048845 -27.20183817 -30.62058131 -37.94654134 -31.13335373]\n",
      "Validação Cruzada Heuristica Matheus     : [-46.12678181 -38.57486228 -42.38702632 -38.81211151 -40.59506354]\n"
     ]
    }
   ],
   "source": [
    "# Validação Cruzada\n",
    "\n",
    "# Validação Cruzada Scikitlearn\n",
    "scoresSK = cross_validate(ArvoreSK, X, y, scoring=make_scorer\n",
    "(mean_squared_error, greater_is_better=False, squared=False))\n",
    "# Validação Cruzada Video\n",
    "scoresVD = cross_validate(ArvoreVD(), X, y, scoring=make_scorer\n",
    "(mean_squared_error, greater_is_better=False, squared=False))\n",
    "# Validação Cruzada Matheus\n",
    "scoresMT = cross_validate(ArvoreMT(), X, y, scoring=make_scorer\n",
    "(mean_squared_error, greater_is_better=False, squared=False))\n",
    "\n",
    "print(f\"Validação Cruzada Heuristica ScikitLearn : {scoresSK['test_score']}\")\n",
    "print(f\"Validação Cruzada Heuristica Vídeo       : {scoresVD['test_score']}\")\n",
    "print(f\"Validação Cruzada Heuristica Matheus     : {scoresMT['test_score']}\")"
   ]
  }
 ],
 "metadata": {
  "interpreter": {
   "hash": "aabdcabb1ce183cf2e0b393220d39e588eba15c9156edfaebeefbd82b848687e"
  },
  "kernelspec": {
   "display_name": "Python 3.9.6 64-bit",
   "language": "python",
   "name": "python3"
  },
  "language_info": {
   "codemirror_mode": {
    "name": "ipython",
    "version": 3
   },
   "file_extension": ".py",
   "mimetype": "text/x-python",
   "name": "python",
   "nbconvert_exporter": "python",
   "pygments_lexer": "ipython3",
   "version": "3.9.6"
  },
  "orig_nbformat": 4
 },
 "nbformat": 4,
 "nbformat_minor": 2
}
