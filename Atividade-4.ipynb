{
 "cells": [
  {
   "cell_type": "markdown",
   "metadata": {},
   "source": [
    "## Atividade 4 Matheus Inácio Silva Mol\n",
    "\n",
    "Baseado na tarefa da semana passada (https://ava.cefor.ifes.edu.br/mod/assign/view.php?id=1575425).\n",
    "\n",
    "Em um jupyter notebook:\n",
    "\n",
    "    1. Carregue uma base de dados de classificação (binária ou multiclasse, mas não multirrótulo) que NÃO esteja nos toy datasets do scikit-learn;\n",
    "    2. Treine um modelo da classe LogisticRegression do scikit-learn com toda a base;\n",
    "    3. Calcule o MSE (erro quadrático médio) para todos os exemplos da usada como treino no modelo treinado;\n",
    "    4. Plote 3 gráficos (2D) o MSE em função do atributo intercept_ da classe LogisticRegression. Mantenha os valores do atributo coef_ fixos e varie o valor de intercept_ entre intercept_ - delta e intercept_ + delta.\n",
    "        41. Diferentemente da tarefa de regressão, o gráfico do erro da classificação, muito provavelmente, não terá a aparência \"bem comportada\" que o gráfico do erro da regressão teve. Por isso, você precisará encontrar 3 deltas (um para cada gráfico). Cada delta provavelmente apresentará uma impressão diferente do comportamento da função de erro.\n",
    "        42. O atributo intercept_ da classe LogisticRegression é um array que guarda o valor de interceptação de cada classe do problema da base de dados. Portanto, será necessário fazer 3 gráficos para cada valor do intercept_. Exemplo: problema com 3 classes, 9 gráficos.\n",
    "    5. Suba seu jupyter notebook para o GitHub e disponibilize o link da tarefa (não do repositório)."
   ]
  },
  {
   "cell_type": "markdown",
   "metadata": {},
   "source": [
    "### Bibliotecas"
   ]
  },
  {
   "cell_type": "code",
   "execution_count": 138,
   "metadata": {},
   "outputs": [],
   "source": [
    "import matplotlib.pyplot as plt\n",
    "from sklearn.linear_model import LogisticRegression\n",
    "from sklearn.metrics import mean_squared_error\n",
    "import numpy as np\n",
    "import pandas as pd"
   ]
  },
  {
   "cell_type": "markdown",
   "metadata": {},
   "source": [
    "### Importando Base de dados"
   ]
  },
  {
   "cell_type": "code",
   "execution_count": 139,
   "metadata": {},
   "outputs": [
    {
     "data": {
      "text/plain": [
       "(1429, 23)"
      ]
     },
     "execution_count": 139,
     "metadata": {},
     "output_type": "execute_result"
    }
   ],
   "source": [
    "#Carregar os dados\n",
    "df = pd.read_csv('C:\\Github - Repositórios\\REPA\\Classificação/b_depressed.csv')\n",
    "\n",
    "df.shape"
   ]
  },
  {
   "cell_type": "code",
   "execution_count": 140,
   "metadata": {},
   "outputs": [
    {
     "data": {
      "text/plain": [
       "Index(['Survey_id', 'Ville_id', 'sex', 'Age', 'Married', 'Number_children',\n",
       "       'education_level', 'total_members', 'gained_asset', 'durable_asset',\n",
       "       'save_asset', 'living_expenses', 'other_expenses', 'incoming_salary',\n",
       "       'incoming_own_farm', 'incoming_business', 'incoming_no_business',\n",
       "       'incoming_agricultural', 'farm_expenses', 'labor_primary',\n",
       "       'lasting_investment', 'no_lasting_investmen', 'depressed'],\n",
       "      dtype='object')"
      ]
     },
     "execution_count": 140,
     "metadata": {},
     "output_type": "execute_result"
    }
   ],
   "source": [
    "df.keys()"
   ]
  },
  {
   "cell_type": "code",
   "execution_count": 141,
   "metadata": {},
   "outputs": [
    {
     "data": {
      "text/plain": [
       "'for d in df.keys():\\n    #print(df[t].values)\\n    for t in df.keys():\\n        X = df[d].values # Valores para X correspondem a Temperatura\\n        y = df[t].values # Valores para y correspondem a Temperatura aparente\\n        \\n        plt.xlabel(f\"Data: {d}\")\\n        plt.ylabel(f\"Target: {t}\")\\n        plt.scatter(X,y)\\n        plt.show()'"
      ]
     },
     "execution_count": 141,
     "metadata": {},
     "output_type": "execute_result"
    }
   ],
   "source": [
    "\"\"\"for d in df.keys():\n",
    "    #print(df[t].values)\n",
    "    for t in df.keys():\n",
    "        X = df[d].values # Valores para X correspondem a Temperatura\n",
    "        y = df[t].values # Valores para y correspondem a Temperatura aparente\n",
    "        \n",
    "        plt.xlabel(f\"Data: {d}\")\n",
    "        plt.ylabel(f\"Target: {t}\")\n",
    "        plt.scatter(X,y)\n",
    "        plt.show()\"\"\""
   ]
  },
  {
   "cell_type": "code",
   "execution_count": 142,
   "metadata": {},
   "outputs": [
    {
     "data": {
      "image/png": "[encoded data removed]",
      "text/plain": [
       "<Figure size 432x288 with 1 Axes>"
      ]
     },
     "metadata": {
      "needs_background": "light"
     },
     "output_type": "display_data"
    }
   ],
   "source": [
    "X = df[\"Age\"].values # Valores para X correspondem a Temperatura\n",
    "y = df[\"Married\"].values # Valores para y correspondem a Temperatura aparente\n",
    "\n",
    "plt.scatter(X,y)\n",
    "plt.show()"
   ]
  },
  {
   "cell_type": "code",
   "execution_count": 143,
   "metadata": {},
   "outputs": [
    {
     "data": {
      "image/png": "[encoded data removed]",
      "text/plain": [
       "<Figure size 432x288 with 1 Axes>"
      ]
     },
     "metadata": {
      "needs_background": "light"
     },
     "output_type": "display_data"
    }
   ],
   "source": [
    "X2 = X.reshape(-1,1)\n",
    "y2 = y.reshape(-1,1)\n",
    "\n",
    "plt.scatter(X2, y2) # Pega todas as linhas da coluna 0 ()\n",
    "plt.show()"
   ]
  },
  {
   "cell_type": "markdown",
   "metadata": {},
   "source": [
    "### Classificação Regressão Logística"
   ]
  },
  {
   "cell_type": "code",
   "execution_count": 144,
   "metadata": {},
   "outputs": [
    {
     "name": "stderr",
     "output_type": "stream",
     "text": [
      "C:\\Users\\mathe\\AppData\\Local\\Programs\\Python\\Python39\\lib\\site-packages\\sklearn\\utils\\validation.py:993: DataConversionWarning: A column-vector y was passed when a 1d array was expected. Please change the shape of y to (n_samples, ), for example using ravel().\n",
      "  y = column_or_1d(y, warn=True)\n"
     ]
    },
    {
     "data": {
      "text/plain": [
       "LogisticRegression()"
      ]
     },
     "execution_count": 144,
     "metadata": {},
     "output_type": "execute_result"
    }
   ],
   "source": [
    "modelo = LogisticRegression()\n",
    "modelo.fit(X2,y2)"
   ]
  },
  {
   "cell_type": "markdown",
   "metadata": {},
   "source": [
    "### Gerando Gráficos"
   ]
  },
  {
   "cell_type": "code",
   "execution_count": 145,
   "metadata": {},
   "outputs": [],
   "source": [
    "DELTA = [1, 4, 10]\n",
    "ITERAÇÕES = 30\n",
    "INTERCEPT = modelo.intercept_"
   ]
  },
  {
   "cell_type": "code",
   "execution_count": 146,
   "metadata": {},
   "outputs": [
    {
     "data": {
      "image/png": "[encoded data removed]",
      "text/plain": [
       "<Figure size 432x288 with 1 Axes>"
      ]
     },
     "metadata": {
      "needs_background": "light"
     },
     "output_type": "display_data"
    },
    {
     "data": {
      "image/png": "[encoded data removed]",
      "text/plain": [
       "<Figure size 432x288 with 1 Axes>"
      ]
     },
     "metadata": {
      "needs_background": "light"
     },
     "output_type": "display_data"
    },
    {
     "data": {
      "image/png": "[encoded data removed]",
      "text/plain": [
       "<Figure size 432x288 with 1 Axes>"
      ]
     },
     "metadata": {
      "needs_background": "light"
     },
     "output_type": "display_data"
    }
   ],
   "source": [
    "for k in DELTA:\n",
    "\n",
    "    delta = k\n",
    "\n",
    "    lista_intersept = np.linspace(INTERCEPT+delta, INTERCEPT-delta, ITERAÇÕES)\n",
    "    lista_intersept\n",
    "\n",
    "    lista_mse = []\n",
    "\n",
    "    for v in range(ITERAÇÕES):\n",
    "        modelo.intercept_ = lista_intersept[v]\n",
    "        ypred = modelo.predict(X2)\n",
    "        mse = mean_squared_error(y, ypred)\n",
    "        lista_mse.append(mse)\n",
    "\n",
    "    #print(lista_mse)\n",
    "\n",
    "    plt.plot(lista_intersept,lista_mse)\n",
    "    plt.xlabel(f\"DELTA = {k}\")\n",
    "    plt.show()"
   ]
  }
 ],
 "metadata": {
  "interpreter": {
   "hash": "0050bdc898b9a679c387244c11e8057e7ae4f22360b32a2e55d1f190f6800284"
  },
  "kernelspec": {
   "display_name": "Python 3.9.6 64-bit",
   "language": "python",
   "name": "python3"
  },
  "language_info": {
   "codemirror_mode": {
    "name": "ipython",
    "version": 3
   },
   "file_extension": ".py",
   "mimetype": "text/x-python",
   "name": "python",
   "nbconvert_exporter": "python",
   "pygments_lexer": "ipython3",
   "version": "3.9.6"
  },
  "orig_nbformat": 4
 },
 "nbformat": 4,
 "nbformat_minor": 2
}
